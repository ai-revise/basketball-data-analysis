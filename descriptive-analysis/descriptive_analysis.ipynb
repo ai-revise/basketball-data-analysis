{
 "cells": [
  {
   "cell_type": "markdown",
   "metadata": {},
   "source": [
    "Descriptive analysis of the Euroleague data. The analysis focuses on home/away scores and wins and estimates the probability of winning when scoring at least N points."
   ]
  },
  {
   "cell_type": "markdown",
   "metadata": {},
   "source": [
    "cd directory to the project root directory"
   ]
  },
  {
   "cell_type": "code",
   "execution_count": null,
   "metadata": {},
   "outputs": [],
   "source": [
    "cd .."
   ]
  },
  {
   "cell_type": "code",
   "execution_count": null,
   "metadata": {},
   "outputs": [],
   "source": [
    "import sys\n",
    "import glob\n",
    "import numpy as np\n",
    "import pandas as pd\n",
    "\n",
    "import plotly_express as px\n",
    "\n",
    "from utils import make_scatter_plot, make_bar_plot, make_scatter_plot_at_least_n_points"
   ]
  },
  {
   "cell_type": "markdown",
   "metadata": {},
   "source": [
    "### Load Data"
   ]
  },
  {
   "cell_type": "code",
   "execution_count": null,
   "metadata": {},
   "outputs": [],
   "source": [
    "files_pattern = 'data/euroleague_results*csv'"
   ]
  },
  {
   "cell_type": "code",
   "execution_count": null,
   "metadata": {},
   "outputs": [],
   "source": [
    "data_list_files = glob.glob(files_pattern)"
   ]
  },
  {
   "cell_type": "code",
   "execution_count": null,
   "metadata": {},
   "outputs": [],
   "source": [
    "df = pd.concat([pd.read_csv(f) for f in data_list_files], ignore_index=True)\n",
    "df.reset_index(drop=True, inplace=True)"
   ]
  },
  {
   "cell_type": "code",
   "execution_count": null,
   "metadata": {},
   "outputs": [],
   "source": [
    "df['Game Result'] = np.where(df['Home Score'] > df['Away Score'], 1, 2)\n",
    "df['Score Difference'] = np.abs(df['Home Score'] - df['Away Score'])"
   ]
  },
  {
   "cell_type": "markdown",
   "metadata": {},
   "source": [
    "### Reshape the data"
   ]
  },
  {
   "cell_type": "code",
   "execution_count": null,
   "metadata": {},
   "outputs": [],
   "source": [
    "df_flat = pd.melt(df, id_vars=['Season', 'Round', 'Game Result'],\n",
    "                  value_vars=['Home Score', 'Away Score'],\n",
    "                  var_name='Loc', value_name='Score')\n",
    "df_flat['Loc'] = df_flat['Loc'].apply(lambda x: x.split(' ')[0])\n",
    "df_flat['Team Result'] = np.where(((df_flat['Game Result'] == 1) &\n",
    "                                   (df_flat['Loc'] == 'Home')) |\n",
    "                                  ((df_flat['Game Result'] == 2) &\n",
    "                                   (df_flat['Loc'] == 'Away')), 'W', 'L')"
   ]
  },
  {
   "cell_type": "markdown",
   "metadata": {},
   "source": [
    "### Stat Table"
   ]
  },
  {
   "cell_type": "code",
   "execution_count": null,
   "metadata": {},
   "outputs": [],
   "source": [
    "dfgroup = df_flat.groupby(['Season', 'Loc'])['Score'].mean().unstack('Loc')\n",
    "dfgroup.columns = ['Away Mean Score', 'Home Mean Score']\n",
    "dfgroup.reset_index(inplace=True)\n",
    "\n",
    "dff = (df.groupby(['Season', 'Game Result'])['Game Result'].\n",
    "       count().unstack('Game Result'))\n",
    "dff.columns = ['Home Wins', 'Away Wins']\n",
    "dff.reset_index(inplace=True)\n",
    "\n",
    "dfgroup = dfgroup.merge(dff, on='Season')\n",
    "\n",
    "dff = (df_flat.groupby(['Season', 'Game Result'])['Score'].\n",
    "       mean().unstack('Game Result'))\n",
    "dff.columns = ['Home Win Mean Score', 'Away Win Mean Score']\n",
    "dff.reset_index(inplace=True)\n",
    "\n",
    "dfgroup = dfgroup.merge(dff, on='Season')\n",
    "\n",
    "print(dfgroup)"
   ]
  },
  {
   "cell_type": "markdown",
   "metadata": {},
   "source": [
    "### Plots: Home/Away Scores"
   ]
  },
  {
   "cell_type": "code",
   "execution_count": null,
   "metadata": {},
   "outputs": [],
   "source": [
    "fig = px.box(df_flat, x=\"Season\", y=\"Score\", color=\"Loc\", notched=True)\n",
    "fig.layout.yaxis.update({'showgrid': True, 'gridcolor': 'rgb(200, 200, 200)'})\n",
    "fig.show()\n",
    "\n",
    "fig = px.box(df, x=\"Season\", y=\"Home Score\", color=\"Game Result\", notched=True)\n",
    "fig.layout.yaxis.update({'showgrid': True, 'gridcolor': 'rgb(200, 200, 200)'})\n",
    "fig.show()\n",
    "\n",
    "fig = px.box(df, x=\"Season\", y=\"Away Score\", color=\"Game Result\", notched=True)\n",
    "fig.layout.yaxis.update({'showgrid': True, 'gridcolor': 'rgb(200, 200, 200)'})\n",
    "fig.show()\n",
    "\n",
    "fig = px.box(df, x=\"Season\", y=\"Score Difference\", color=\"Game Result\",\n",
    "             notched=True)\n",
    "fig.layout.yaxis.update({'showgrid': True, 'gridcolor': 'rgb(200, 200, 200)'})\n",
    "fig.show()"
   ]
  },
  {
   "cell_type": "code",
   "execution_count": null,
   "metadata": {},
   "outputs": [],
   "source": [
    "df_flat['Season_int'] = df_flat['Season'].apply(lambda x: int(x[-4:]))"
   ]
  },
  {
   "cell_type": "markdown",
   "metadata": {},
   "source": [
    "### Scatter plots - probability of winning when scoring at least N points"
   ]
  },
  {
   "cell_type": "code",
   "execution_count": null,
   "metadata": {},
   "outputs": [],
   "source": [
    "make_scatter_plot_at_least_n_points([df_flat, df_flat[df_flat['Loc'] == 'Home'],\n",
    "                                     df_flat[df_flat['Loc'] == 'Away']],\n",
    "                                    ['All', 'Home', 'Away'])\n",
    "\n",
    "make_scatter_plot_at_least_n_points([df_flat[df_flat['Season_int'] == 2017],\n",
    "                                     df_flat[df_flat['Season_int'] == 2018],\n",
    "                                     df_flat[df_flat['Season_int'] == 2019]],\n",
    "                                    ['2017', '2018', '2019'])"
   ]
  },
  {
   "cell_type": "markdown",
   "metadata": {},
   "source": [
    "### Scatter plots - probability of winning when scoring points in a range."
   ]
  },
  {
   "cell_type": "markdown",
   "metadata": {},
   "source": [
    "#### Bar plots"
   ]
  },
  {
   "cell_type": "code",
   "execution_count": null,
   "metadata": {},
   "outputs": [],
   "source": [
    "make_bar_plot([df_flat, df_flat[df_flat['Loc'] == 'Home'],\n",
    "               df_flat[df_flat['Loc'] == 'Away']],\n",
    "              ['All', 'Home', 'Away'])\n",
    "\n",
    "make_bar_plot([df_flat[df_flat['Season_int'] == 2017],\n",
    "               df_flat[df_flat['Season_int'] == 2018],\n",
    "               df_flat[df_flat['Season_int'] == 2019]],\n",
    "              ['2017', '2018', '2019'])"
   ]
  },
  {
   "cell_type": "markdown",
   "metadata": {},
   "source": [
    "#### Scatter Plots"
   ]
  },
  {
   "cell_type": "code",
   "execution_count": null,
   "metadata": {},
   "outputs": [],
   "source": [
    "make_scatter_plot([df_flat, df_flat[df_flat['Loc'] == 'Home'],\n",
    "                   df_flat[df_flat['Loc'] == 'Away']],\n",
    "                  ['All', 'Home', 'Away'])\n",
    "\n",
    "make_scatter_plot([df_flat[df_flat['Season_int'] == 2017],\n",
    "                   df_flat[df_flat['Season_int'] == 2018],\n",
    "                   df_flat[df_flat['Season_int'] == 2019]],\n",
    "                  ['2017', '2018', '2019'])"
   ]
  }
 ],
 "metadata": {
  "anaconda-cloud": {},
  "kernelspec": {
   "display_name": "Python 3",
   "language": "python",
   "name": "python3"
  },
  "language_info": {
   "codemirror_mode": {
    "name": "ipython",
    "version": 3
   },
   "file_extension": ".py",
   "mimetype": "text/x-python",
   "name": "python",
   "nbconvert_exporter": "python",
   "pygments_lexer": "ipython3",
   "version": "3.7.4"
  }
 },
 "nbformat": 4,
 "nbformat_minor": 4
}
