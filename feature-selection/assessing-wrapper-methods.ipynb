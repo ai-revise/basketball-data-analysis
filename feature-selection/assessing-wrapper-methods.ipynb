{
 "cells": [
  {
   "cell_type": "code",
   "execution_count": 1,
   "metadata": {},
   "outputs": [],
   "source": [
    "import numpy as np\n",
    "\n",
    "import plotly.graph_objs as go"
   ]
  },
  {
   "cell_type": "code",
   "execution_count": 2,
   "metadata": {},
   "outputs": [],
   "source": [
    "scores_obj = np.load('../output/wrapper_ada2_n_121_rate_1.npz', allow_pickle=True)\n",
    "scores = scores_obj['scores']\n",
    "featute_sets = scores_obj['features']\n",
    "\n",
    "accuracy = scores[:, 0]\n",
    "w_accuracy = scores[:, 1]"
   ]
  },
  {
   "cell_type": "code",
   "execution_count": 3,
   "metadata": {},
   "outputs": [
    {
     "data": {
      "text/plain": [
       "['Position_x',\n",
       " 'Offence_x',\n",
       " 'Offence_y',\n",
       " 'Defence_y',\n",
       " 'Diff_y',\n",
       " 'Home F4',\n",
       " 'Away F4']"
      ]
     },
     "execution_count": 3,
     "metadata": {},
     "output_type": "execute_result"
    }
   ],
   "source": [
    "featute_sets[2815]"
   ]
  },
  {
   "cell_type": "code",
   "execution_count": 4,
   "metadata": {},
   "outputs": [
    {
     "data": {
      "text/plain": [
       "'temp-plot.html'"
      ]
     },
     "execution_count": 4,
     "metadata": {},
     "output_type": "execute_result"
    }
   ],
   "source": [
    "indices = np.argsort(accuracy)[::-1][:10]\n",
    "# x = [', '.join(u) for u in featute_sets[indices]]\n",
    "xx = [[featute_sets[-1].index(u) for u in feats] for feats in featute_sets[indices]]\n",
    "x = [str(u) for u in xx]\n",
    "data = [go.Bar(x=x, y=np.sort(accuracy)[::-1][:10], name='accuracy')]\n",
    "\n",
    "layout = go.Layout(yaxis={'title': 'Accuracy'})\n",
    "fig = go.Figure(data, layout)\n",
    "fig.update_yaxes(range=[0.706, 0.718])\n",
    "fig.show()"
   ]
  },
  {
   "cell_type": "code",
   "execution_count": 5,
   "metadata": {},
   "outputs": [
    {
     "data": {
      "text/plain": [
       "'temp-plot.html'"
      ]
     },
     "execution_count": 5,
     "metadata": {},
     "output_type": "execute_result"
    }
   ],
   "source": [
    "indices = np.argsort(w_accuracy)[::-1][:10]\n",
    "xx = [[featute_sets[-1].index(u) for u in feats] for feats in featute_sets[indices]]\n",
    "x = [str(u) for u in xx]\n",
    "\n",
    "data = [go.Bar(x=x, y=np.sort(w_accuracy)[::-1][:10])]\n",
    "layout = go.Layout(yaxis={'title': 'Weighted Accuracy'})\n",
    "fig = go.Figure(data, layout)\n",
    "fig.update_yaxes(range=[0.675, 0.685])\n",
    "fig.show()"
   ]
  },
  {
   "cell_type": "code",
   "execution_count": null,
   "metadata": {},
   "outputs": [],
   "source": []
  }
 ],
 "metadata": {
  "kernelspec": {
   "display_name": "Python 3",
   "language": "python",
   "name": "python3"
  },
  "language_info": {
   "codemirror_mode": {
    "name": "ipython",
    "version": 3
   },
   "file_extension": ".py",
   "mimetype": "text/x-python",
   "name": "python",
   "nbconvert_exporter": "python",
   "pygments_lexer": "ipython3",
   "version": "3.7.4"
  }
 },
 "nbformat": 4,
 "nbformat_minor": 4
}
